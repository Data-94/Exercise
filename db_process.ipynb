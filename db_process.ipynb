{
 "cells": [
  {
   "cell_type": "code",
   "execution_count": 1,
   "metadata": {},
   "outputs": [],
   "source": [
    "import sqlite3"
   ]
  },
  {
   "cell_type": "code",
   "execution_count": 2,
   "metadata": {},
   "outputs": [],
   "source": [
    "conn = sqlite3.connect(\"trial.db\")"
   ]
  },
  {
   "cell_type": "code",
   "execution_count": 6,
   "metadata": {},
   "outputs": [
    {
     "data": {
      "text/plain": [
       "<sqlite3.Cursor at 0x1f9c7cc2ea0>"
      ]
     },
     "execution_count": 6,
     "metadata": {},
     "output_type": "execute_result"
    }
   ],
   "source": [
    "conn.execute('''create table if not exists users\n",
    "             (id integer primary key,\n",
    "             name text,\n",
    "             surname,\n",
    "             phone text)\n",
    "''')         "
   ]
  },
  {
   "cell_type": "code",
   "execution_count": 9,
   "metadata": {},
   "outputs": [],
   "source": [
    "conn.execute(\"insert into users (name,surname,phone) values (?,?,?)\",\n",
    "             (\"robert\",\"de niro\",\"201905\")\n",
    "            )\n",
    "conn.commit()"
   ]
  },
  {
   "cell_type": "code",
   "execution_count": 10,
   "metadata": {},
   "outputs": [],
   "source": [
    "conn.execute(\"insert into users (name,surname,phone) values (?,?,?)\",\n",
    "             (\"al\",\"pacino\",\"201905\")\n",
    "            )\n",
    "conn.commit()"
   ]
  },
  {
   "cell_type": "code",
   "execution_count": 11,
   "metadata": {},
   "outputs": [],
   "source": [
    "conn.execute(\"insert into users (name,surname,phone) values (?,?,?)\",\n",
    "             (\"tom \",\"hanks\",\"234223\")\n",
    "            )\n",
    "conn.commit()"
   ]
  },
  {
   "cell_type": "code",
   "execution_count": 12,
   "metadata": {},
   "outputs": [],
   "source": [
    "conn.execute(\"insert into users (name,surname,phone) values (?,?,?)\",\n",
    "             (\"john\",\"goodman\",\"444444\")\n",
    "            )\n",
    "conn.commit()"
   ]
  },
  {
   "cell_type": "code",
   "execution_count": 27,
   "metadata": {},
   "outputs": [],
   "source": [
    "cursor = conn.execute(\"select * from users\")\n"
   ]
  },
  {
   "cell_type": "code",
   "execution_count": 28,
   "metadata": {},
   "outputs": [
    {
     "name": "stdout",
     "output_type": "stream",
     "text": [
      "id 1\n",
      "name robert\n",
      "surname de niro\n",
      "phone 201905\n",
      "---------\n",
      "id 2\n",
      "name al\n",
      "surname pacino\n",
      "phone 201905\n",
      "---------\n",
      "id 3\n",
      "name tom \n",
      "surname hanks\n",
      "phone 234223\n",
      "---------\n",
      "id 4\n",
      "name john\n",
      "surname goodman\n",
      "phone 444444\n",
      "---------\n"
     ]
    }
   ],
   "source": [
    "for value in cursor :\n",
    "    print(\"id\",value[0])\n",
    "    print(\"name\",value[1])\n",
    "    print(\"surname\",value[2])\n",
    "    print(\"phone\",value[3])\n",
    "    print(\"---------\")"
   ]
  },
  {
   "cell_type": "code",
   "execution_count": 32,
   "metadata": {},
   "outputs": [],
   "source": [
    "conn.execute(\"update users set phone = '13579' where id = 2 \")\n",
    "conn.commit()"
   ]
  },
  {
   "cell_type": "code",
   "execution_count": 34,
   "metadata": {},
   "outputs": [],
   "source": [
    "conn.execute(\"delete from users where id = ?\",(3,))\n",
    "conn.commit()"
   ]
  },
  {
   "cell_type": "code",
   "execution_count": 35,
   "metadata": {},
   "outputs": [],
   "source": [
    "conn.close()"
   ]
  }
 ],
 "metadata": {
  "kernelspec": {
   "display_name": "Python 3",
   "language": "python",
   "name": "python3"
  },
  "language_info": {
   "codemirror_mode": {
    "name": "ipython",
    "version": 3
   },
   "file_extension": ".py",
   "mimetype": "text/x-python",
   "name": "python",
   "nbconvert_exporter": "python",
   "pygments_lexer": "ipython3",
   "version": "3.9.13"
  }
 },
 "nbformat": 4,
 "nbformat_minor": 2
}
